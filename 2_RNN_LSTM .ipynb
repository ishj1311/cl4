{
 "cells": [
  {
   "cell_type": "code",
   "execution_count": 1,
   "id": "616f648c-b32d-40d7-9b34-c4ad6b2ce74d",
   "metadata": {},
   "outputs": [],
   "source": [
    "import tensorflow as tf\n",
    "from tensorflow.keras.datasets import imdb\n",
    "from tensorflow.keras.preprocessing.sequence import pad_sequences\n",
    "from tensorflow.keras.models import Sequential\n",
    "from tensorflow.keras.layers import Embedding,LSTM,Dense"
   ]
  },
  {
   "cell_type": "code",
   "execution_count": 2,
   "id": "ab7f5c60-8937-47fc-8cc9-81b3fe0bc023",
   "metadata": {},
   "outputs": [
    {
     "name": "stdout",
     "output_type": "stream",
     "text": [
      "Downloading data from https://storage.googleapis.com/tensorflow/tf-keras-datasets/imdb.npz\n",
      "\u001b[1m17464789/17464789\u001b[0m \u001b[32m━━━━━━━━━━━━━━━━━━━━\u001b[0m\u001b[37m\u001b[0m \u001b[1m8s\u001b[0m 0us/step\n"
     ]
    }
   ],
   "source": [
    "# LOAD Dataset\n",
    "(x_train,y_train),(x_test,y_test)=imdb.load_data(num_words=10000)\n",
    "\n",
    "# pad seq to same length\n",
    "x_train = pad_sequences(x_train,maxlen=200)\n",
    "x_test=pad_sequences(x_test,maxlen=200)"
   ]
  },
  {
   "cell_type": "code",
   "execution_count": 3,
   "id": "50ecd8da-3b62-4216-8f85-ab1d3aff0f8b",
   "metadata": {},
   "outputs": [
    {
     "name": "stderr",
     "output_type": "stream",
     "text": [
      "C:\\Users\\lenovo\\AppData\\Local\\Programs\\Python\\Python312\\Lib\\site-packages\\keras\\src\\layers\\core\\embedding.py:90: UserWarning: Argument `input_length` is deprecated. Just remove it.\n",
      "  warnings.warn(\n"
     ]
    },
    {
     "name": "stdout",
     "output_type": "stream",
     "text": [
      "Epoch 1/3\n",
      "\u001b[1m313/313\u001b[0m \u001b[32m━━━━━━━━━━━━━━━━━━━━\u001b[0m\u001b[37m\u001b[0m \u001b[1m94s\u001b[0m 260ms/step - accuracy: 0.6951 - loss: 0.5438 - val_accuracy: 0.8510 - val_loss: 0.3885\n",
      "Epoch 2/3\n",
      "\u001b[1m313/313\u001b[0m \u001b[32m━━━━━━━━━━━━━━━━━━━━\u001b[0m\u001b[37m\u001b[0m \u001b[1m112s\u001b[0m 357ms/step - accuracy: 0.8886 - loss: 0.2835 - val_accuracy: 0.8730 - val_loss: 0.3046\n",
      "Epoch 3/3\n",
      "\u001b[1m313/313\u001b[0m \u001b[32m━━━━━━━━━━━━━━━━━━━━\u001b[0m\u001b[37m\u001b[0m \u001b[1m99s\u001b[0m 318ms/step - accuracy: 0.9331 - loss: 0.1834 - val_accuracy: 0.8710 - val_loss: 0.3222\n"
     ]
    },
    {
     "data": {
      "text/plain": [
       "<keras.src.callbacks.history.History at 0x14d5172c530>"
      ]
     },
     "execution_count": 3,
     "metadata": {},
     "output_type": "execute_result"
    }
   ],
   "source": [
    "# LSTM MODEL\n",
    "model = Sequential([\n",
    "    Embedding(input_dim=10000,output_dim=32,input_length=200),\n",
    "    LSTM(64),\n",
    "    Dense(1,activation='sigmoid')\n",
    "])\n",
    "\n",
    "# compile and train\n",
    "model.compile(optimizer='adam',loss='binary_crossentropy',metrics=['accuracy'])\n",
    "model.fit(x_train,y_train,epochs=3,batch_size=64,validation_split=0.2)\n",
    " "
   ]
  },
  {
   "cell_type": "code",
   "execution_count": 4,
   "id": "24a61d6e-0d45-4cd1-9d3f-194986565528",
   "metadata": {},
   "outputs": [
    {
     "name": "stdout",
     "output_type": "stream",
     "text": [
      "\u001b[1m782/782\u001b[0m \u001b[32m━━━━━━━━━━━━━━━━━━━━\u001b[0m\u001b[37m\u001b[0m \u001b[1m89s\u001b[0m 114ms/step - accuracy: 0.8607 - loss: 0.3500\n",
      "TEST ACCURACY =  0.8599200248718262\n"
     ]
    }
   ],
   "source": [
    "#evaluation\n",
    "loss,acc=model.evaluate(x_test,y_test)\n",
    "print(\"TEST ACCURACY = \",acc)\n"
   ]
  },
  {
   "cell_type": "markdown",
   "id": "6f58e905-4223-4529-8bc8-15b9ed892441",
   "metadata": {},
   "source": [
    "IMDb dataset: Preprocessed movie reviews labeled as positive (1) or negative (0).\n",
    "\n",
    "Embedding Layer: Converts words into vectors.\n",
    "\n",
    "LSTM Layer: Remembers context using gates (better than simple RNN).\n",
    "\n",
    "Dense Layer: Output layer with sigmoid for binary prediction.\n",
    "\n",
    "Loss: Binary cross-entropy since it's a binary classification."
   ]
  },
  {
   "cell_type": "code",
   "execution_count": null,
   "id": "e19d0daa-97f6-4fa4-a759-fd48612fddd3",
   "metadata": {},
   "outputs": [],
   "source": []
  }
 ],
 "metadata": {
  "kernelspec": {
   "display_name": "Python 3 (ipykernel)",
   "language": "python",
   "name": "python3"
  },
  "language_info": {
   "codemirror_mode": {
    "name": "ipython",
    "version": 3
   },
   "file_extension": ".py",
   "mimetype": "text/x-python",
   "name": "python",
   "nbconvert_exporter": "python",
   "pygments_lexer": "ipython3",
   "version": "3.12.4"
  }
 },
 "nbformat": 4,
 "nbformat_minor": 5
}
